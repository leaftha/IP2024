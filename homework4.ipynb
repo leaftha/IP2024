{
 "cells": [
  {
   "cell_type": "code",
   "execution_count": null,
   "metadata": {},
   "outputs": [],
   "source": [
    "import cv2\n",
    "import numpy as np\n",
    "\n",
    "def run_main():\n",
    "    img = cv2.imread('sIMG_8253.JPG') \n",
    "    if img is None:\n",
    "        print(\"Error loading image.\")\n",
    "        return\n",
    "\n",
    "    roi = img[0:1000, 0:700]  \n",
    "    gray = cv2.cvtColor(roi, cv2.COLOR_BGR2GRAY) \n",
    "\n",
    "    gray_blur = cv2.GaussianBlur(gray, (15, 15), 0)  \n",
    "    thresh = cv2.adaptiveThreshold(gray_blur, 255, cv2.ADAPTIVE_THRESH_GAUSSIAN_C,\n",
    "                                   cv2.THRESH_BINARY_INV, 11, 1)  \n",
    "\n",
    "    kernel = np.ones((3, 3), np.uint8)\n",
    "    closing = cv2.morphologyEx(thresh, cv2.MORPH_CLOSE, kernel, iterations=4) \n",
    "\n",
    "    cont_img = closing.copy()  \n",
    "    contours, hierarchy = cv2.findContours(cont_img, cv2.RETR_EXTERNAL, cv2.CHAIN_APPROX_SIMPLE)\n",
    "\n",
    "    for cnt in contours:\n",
    "        area = cv2.contourArea(cnt)\n",
    "        if area < 2000 or area > 4000:\n",
    "            continue\n",
    "\n",
    "        if len(cnt) < 5:\n",
    "            continue\n",
    "\n",
    "        ellipse = cv2.fitEllipse(cnt)  \n",
    "        cv2.ellipse(roi, ellipse, (0, 255, 0), 2)  \n",
    "\n",
    "    # Display the results\n",
    "    cv2.imshow(\"Morphological Closing\", closing)\n",
    "    cv2.imshow(\"Adaptive Thresholding\", thresh)\n",
    "    cv2.imshow('Contours', roi)\n",
    "\n",
    "    cv2.waitKey(0)\n",
    "    cv2.destroyAllWindows()\n",
    "\n",
    "if __name__ == \"__main__\":\n",
    "    run_main()\n"
   ]
  }
 ],
 "metadata": {
  "kernelspec": {
   "display_name": "IP2024",
   "language": "python",
   "name": "python3"
  },
  "language_info": {
   "codemirror_mode": {
    "name": "ipython",
    "version": 3
   },
   "file_extension": ".py",
   "mimetype": "text/x-python",
   "name": "python",
   "nbconvert_exporter": "python",
   "pygments_lexer": "ipython3",
   "version": "3.8.19"
  }
 },
 "nbformat": 4,
 "nbformat_minor": 2
}
