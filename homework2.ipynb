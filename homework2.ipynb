{
 "cells": [
  {
   "cell_type": "code",
   "execution_count": 4,
   "metadata": {},
   "outputs": [],
   "source": [
    "import cv2 \n",
    "import numpy as np \n",
    "cap = cv2.VideoCapture(0) \n",
    "while(1): # Take each frame \n",
    "    _, frame = cap.read() # Convert BGR to HSV\n",
    "    hsv = cv2.cvtColor(frame, cv2.COLOR_BGR2HSV) # define range of blue color in HSV \n",
    "    lower_blue = np.array([110,50,50]) \n",
    "    upper_blue = np.array([130,255,255]) # Threshold the HSV image to get only blue colors \n",
    "    mask = cv2.inRange(hsv, lower_blue, upper_blue) # Bitwise-AND mask and original image \n",
    "    res = cv2.bitwise_and(frame,frame, mask= mask) \n",
    "    cv2.imshow('frame',frame) \n",
    "    cv2.imshow('mask',mask) \n",
    "    cv2.imshow('res',res) \n",
    "    k = cv2.waitKey(5) & 0xFF \n",
    "    if k == 27: \n",
    "        break \n",
    "cv2.destroyAllWindows()\n"
   ]
  }
 ],
 "metadata": {
  "kernelspec": {
   "display_name": "IP2024",
   "language": "python",
   "name": "python3"
  },
  "language_info": {
   "codemirror_mode": {
    "name": "ipython",
    "version": 3
   },
   "file_extension": ".py",
   "mimetype": "text/x-python",
   "name": "python",
   "nbconvert_exporter": "python",
   "pygments_lexer": "ipython3",
   "version": "3.8.19"
  }
 },
 "nbformat": 4,
 "nbformat_minor": 2
}
